{
 "cells": [
  {
   "cell_type": "code",
   "execution_count": null,
   "id": "8fb20c19-3130-4a23-b5cd-9dfa82122e22",
   "metadata": {},
   "outputs": [],
   "source": [
    "Q1. Which keyword is used to create a function? Create a function to return a list of odd numbers in the\n",
    "range of 1 to 25."
   ]
  },
  {
   "cell_type": "code",
   "execution_count": null,
   "id": "79da7549-5d16-4756-a332-292d37455681",
   "metadata": {},
   "outputs": [],
   "source": [
    "def test():        after def take anything "
   ]
  },
  {
   "cell_type": "code",
   "execution_count": 4,
   "id": "c074c529-3d42-491d-81ef-ca4706a892c6",
   "metadata": {},
   "outputs": [
    {
     "name": "stdout",
     "output_type": "stream",
     "text": [
      "[1, 3, 5, 7, 9, 11, 13, 15, 17, 19, 21, 23, 25]\n"
     ]
    }
   ],
   "source": [
    "def odd_numbers_in_range(start, end):\n",
    "    odd_numbers = []\n",
    "    for num in range(start, end + 1):\n",
    "        if num % 2 != 0:\n",
    "            odd_numbers.append(num)\n",
    "    return odd_numbers\n",
    "\n",
    "odd_numbers_list = odd_numbers_in_range(1, 25)\n",
    "print(odd_numbers_list)\n"
   ]
  },
  {
   "cell_type": "code",
   "execution_count": null,
   "id": "193fde45-ebb9-4c9e-afb7-294b87f7305f",
   "metadata": {},
   "outputs": [],
   "source": [
    "2.Why *args and **kwargs is used in some functions? Create a function each for *args and **kwargs\n",
    "to demonstrate their use"
   ]
  },
  {
   "cell_type": "code",
   "execution_count": null,
   "id": "fa849cab-37c5-492b-9c89-7a5dfb80a1eb",
   "metadata": {},
   "outputs": [],
   "source": [
    "*args used in tuple and **kwargs used in dictinary"
   ]
  },
  {
   "cell_type": "code",
   "execution_count": 13,
   "id": "1ddcf027-89b7-4f6e-8b34-5f0629aef424",
   "metadata": {},
   "outputs": [],
   "source": [
    "def test1(*args ,a):\n",
    "    return args,a"
   ]
  },
  {
   "cell_type": "code",
   "execution_count": 14,
   "id": "058166c2-5719-4bcc-aecd-5eccf25d3c64",
   "metadata": {},
   "outputs": [
    {
     "data": {
      "text/plain": [
       "((12, 1, 3, 45), 34)"
      ]
     },
     "execution_count": 14,
     "metadata": {},
     "output_type": "execute_result"
    }
   ],
   "source": [
    "test1(12,1,3,45, a=34)"
   ]
  },
  {
   "cell_type": "code",
   "execution_count": 16,
   "id": "f251cbad-36de-438a-8022-66a62f0018c1",
   "metadata": {},
   "outputs": [],
   "source": [
    "def test29(**kwargs):\n",
    "    return kwargs"
   ]
  },
  {
   "cell_type": "code",
   "execution_count": 21,
   "id": "1f0c8e96-1de9-4d47-981c-259e643a64e6",
   "metadata": {},
   "outputs": [
    {
     "data": {
      "text/plain": [
       "{'a': [1, 2, 3, 45, 6], 'b': 'raju', 'c': False}"
      ]
     },
     "execution_count": 21,
     "metadata": {},
     "output_type": "execute_result"
    }
   ],
   "source": [
    "test29(a=[1,2,3,45,6], b=\"raju\", c=False) "
   ]
  },
  {
   "cell_type": "code",
   "execution_count": null,
   "id": "20620b69-59f8-430e-9c1a-3b7120032838",
   "metadata": {},
   "outputs": [],
   "source": [
    "3. What is an iterator in python? Name the method used to initialise the iterator object and the method\n",
    "used for iteration. Use these methods to print the first five elements of the given list [2, 4, 6, 8, 10, 12, 14,\n",
    "16, 18, 20]."
   ]
  },
  {
   "cell_type": "code",
   "execution_count": null,
   "id": "0d69d135-1b00-4201-ba67-c66706ccff7f",
   "metadata": {},
   "outputs": [],
   "source": [
    "Q4.  What is a generator function in python? Why yield keyword is used? Give an example of a generator\n",
    "function"
   ]
  },
  {
   "cell_type": "code",
   "execution_count": null,
   "id": "4a8fe4eb-ce1a-4ad9-851f-07b548cbf3df",
   "metadata": {},
   "outputs": [],
   "source": [
    "Generator function is a function one by one give the function ."
   ]
  },
  {
   "cell_type": "code",
   "execution_count": 5,
   "id": "07849337-df3c-47a0-ab09-d5ecafc43084",
   "metadata": {},
   "outputs": [],
   "source": [
    "def test_fib(n):\n",
    "    a,b=0,1\n",
    "    for i in range(10):\n",
    "        yield a\n",
    "        a,b =b,a+b"
   ]
  },
  {
   "cell_type": "code",
   "execution_count": 6,
   "id": "7215db3f-5b84-44e0-aebb-1f989d753cb6",
   "metadata": {},
   "outputs": [
    {
     "name": "stdout",
     "output_type": "stream",
     "text": [
      "0\n",
      "1\n",
      "1\n",
      "2\n",
      "3\n",
      "5\n",
      "8\n",
      "13\n",
      "21\n",
      "34\n"
     ]
    }
   ],
   "source": [
    "for i in test_fib(10):\n",
    "    print(i)"
   ]
  },
  {
   "cell_type": "code",
   "execution_count": null,
   "id": "3bd85880-ba5f-4b86-bf10-cd86e2b63c2c",
   "metadata": {},
   "outputs": [],
   "source": [
    "Q5. Create a generator function for prime numbers less than 1000. Use the next() method to print the\n",
    "first 20 prime numbers."
   ]
  },
  {
   "cell_type": "code",
   "execution_count": 46,
   "id": "84dc653c-14f6-406f-9158-4006c9fa2af8",
   "metadata": {},
   "outputs": [
    {
     "name": "stdout",
     "output_type": "stream",
     "text": [
      "2\n",
      "3\n",
      "5\n",
      "7\n",
      "11\n",
      "13\n",
      "17\n",
      "19\n",
      "23\n",
      "29\n",
      "31\n",
      "37\n",
      "41\n",
      "43\n",
      "47\n",
      "53\n",
      "59\n",
      "61\n",
      "67\n",
      "71\n"
     ]
    }
   ],
   "source": [
    "def is_prime(n):\n",
    "    if n <= 1:\n",
    "        return False\n",
    "    if n <= 3:\n",
    "        return True\n",
    "    if n % 2 == 0 or n % 3 == 0:\n",
    "        return False\n",
    "    i = 5\n",
    "    while i * i <= n:\n",
    "        if n % i == 0 or n % (i + 2) == 0:\n",
    "            return False\n",
    "        i += 6\n",
    "    return True\n",
    "\n",
    "def prime_generator(limit):\n",
    "    n = 2\n",
    "    while n < limit:\n",
    "        if is_prime(n):\n",
    "            yield n\n",
    "        n += 1\n",
    "\n",
    "# Generate and print the first 20 prime numbers less than 1000\n",
    "prime_gen = prime_generator(1000)\n",
    "for _ in range(20):\n",
    "    prime = next(prime_gen)\n",
    "    print(prime)\n"
   ]
  },
  {
   "cell_type": "code",
   "execution_count": 45,
   "id": "7e37208e-f876-4caf-a0ae-d44f036e4eea",
   "metadata": {},
   "outputs": [
    {
     "ename": "SyntaxError",
     "evalue": "invalid syntax (2018663381.py, line 1)",
     "output_type": "error",
     "traceback": [
      "\u001b[0;36m  Cell \u001b[0;32mIn[45], line 1\u001b[0;36m\u001b[0m\n\u001b[0;31m    6. Write a python program to print the first 10 Fibonacci numbers using a while loop.\u001b[0m\n\u001b[0m       ^\u001b[0m\n\u001b[0;31mSyntaxError\u001b[0m\u001b[0;31m:\u001b[0m invalid syntax\n"
     ]
    }
   ],
   "source": [
    "6. Write a python program to print the first 10 Fibonacci numbers using a while loop."
   ]
  },
  {
   "cell_type": "code",
   "execution_count": 13,
   "id": "5536fb52-825e-46be-b19d-0bd221db9b2e",
   "metadata": {},
   "outputs": [],
   "source": [
    "def test_fib(n):\n",
    "    a,b=0,1\n",
    "    while True:\n",
    "        yield a\n",
    "        a,b=b,a+b"
   ]
  },
  {
   "cell_type": "code",
   "execution_count": 14,
   "id": "9ce00ea2-9c4b-4bd6-a329-07cff733a41b",
   "metadata": {},
   "outputs": [],
   "source": [
    "fib=test_fib(10)"
   ]
  },
  {
   "cell_type": "code",
   "execution_count": 16,
   "id": "543ddc00-2ca7-48ae-975d-52bdee39e641",
   "metadata": {},
   "outputs": [
    {
     "name": "stdout",
     "output_type": "stream",
     "text": [
      "1\n",
      "1\n",
      "2\n",
      "3\n",
      "5\n",
      "8\n",
      "13\n",
      "21\n",
      "34\n",
      "55\n"
     ]
    }
   ],
   "source": [
    "for i in range(10):\n",
    "     print(next(fib))\n",
    "   "
   ]
  },
  {
   "cell_type": "code",
   "execution_count": null,
   "id": "48850d4e-b98b-4f7f-9ecb-3b0ecbd257e7",
   "metadata": {},
   "outputs": [],
   "source": [
    "Q7. Write a List Comprehension to iterate through the given string: ‘pwskills’.\n",
    "\n",
    "Expected output: ['p', 'w', 's', 'k', 'i', 'l', 'l', 's']"
   ]
  },
  {
   "cell_type": "code",
   "execution_count": 17,
   "id": "63d8ec2f-ca38-41d2-ae06-eaeda1e47347",
   "metadata": {},
   "outputs": [],
   "source": [
    "s=\"pwskills\""
   ]
  },
  {
   "cell_type": "code",
   "execution_count": 18,
   "id": "bbff633f-43e0-4b4b-bb73-f6672361656b",
   "metadata": {},
   "outputs": [],
   "source": [
    "s1=iter(s)"
   ]
  },
  {
   "cell_type": "code",
   "execution_count": 19,
   "id": "679506db-b389-4914-b7e8-4ae2363e8022",
   "metadata": {},
   "outputs": [
    {
     "data": {
      "text/plain": [
       "'p'"
      ]
     },
     "execution_count": 19,
     "metadata": {},
     "output_type": "execute_result"
    }
   ],
   "source": [
    "next(s1)"
   ]
  },
  {
   "cell_type": "code",
   "execution_count": 20,
   "id": "ec7a99d7-a188-4f3b-b303-eb57c59da3fc",
   "metadata": {},
   "outputs": [
    {
     "data": {
      "text/plain": [
       "'w'"
      ]
     },
     "execution_count": 20,
     "metadata": {},
     "output_type": "execute_result"
    }
   ],
   "source": [
    "next(s1)"
   ]
  },
  {
   "cell_type": "code",
   "execution_count": 21,
   "id": "6c79d28d-5faf-4cbc-8106-3fd6d4102829",
   "metadata": {},
   "outputs": [
    {
     "data": {
      "text/plain": [
       "'s'"
      ]
     },
     "execution_count": 21,
     "metadata": {},
     "output_type": "execute_result"
    }
   ],
   "source": [
    "next(s1)"
   ]
  },
  {
   "cell_type": "code",
   "execution_count": 22,
   "id": "ae7d5bee-9245-4abd-8ed6-6ed67225a525",
   "metadata": {},
   "outputs": [
    {
     "data": {
      "text/plain": [
       "'k'"
      ]
     },
     "execution_count": 22,
     "metadata": {},
     "output_type": "execute_result"
    }
   ],
   "source": [
    "next(s1)"
   ]
  },
  {
   "cell_type": "code",
   "execution_count": 23,
   "id": "5d61d529-93fa-4d32-979d-54ffd5362ea5",
   "metadata": {},
   "outputs": [
    {
     "data": {
      "text/plain": [
       "'i'"
      ]
     },
     "execution_count": 23,
     "metadata": {},
     "output_type": "execute_result"
    }
   ],
   "source": [
    "next(s1)"
   ]
  },
  {
   "cell_type": "code",
   "execution_count": 24,
   "id": "268cbf73-ee7f-49f3-8a33-96ef5922a479",
   "metadata": {},
   "outputs": [
    {
     "data": {
      "text/plain": [
       "'l'"
      ]
     },
     "execution_count": 24,
     "metadata": {},
     "output_type": "execute_result"
    }
   ],
   "source": [
    "next(s1)"
   ]
  },
  {
   "cell_type": "code",
   "execution_count": 25,
   "id": "631bd1aa-47bb-4dcd-9340-a918fd9a8bef",
   "metadata": {},
   "outputs": [
    {
     "data": {
      "text/plain": [
       "'l'"
      ]
     },
     "execution_count": 25,
     "metadata": {},
     "output_type": "execute_result"
    }
   ],
   "source": [
    "next(s1)"
   ]
  },
  {
   "cell_type": "code",
   "execution_count": 26,
   "id": "213f1305-61f2-465e-8f81-ca4853c4074b",
   "metadata": {},
   "outputs": [
    {
     "data": {
      "text/plain": [
       "'s'"
      ]
     },
     "execution_count": 26,
     "metadata": {},
     "output_type": "execute_result"
    }
   ],
   "source": [
    "next(s1)"
   ]
  },
  {
   "cell_type": "code",
   "execution_count": null,
   "id": "d0adf6b2-592f-4826-9ccd-531cdeca34c9",
   "metadata": {},
   "outputs": [],
   "source": [
    "Q8. Write a python program to check whether a given number is Palindrome or not using a while loop."
   ]
  },
  {
   "cell_type": "code",
   "execution_count": null,
   "id": "ef45552e-e6f9-47dd-9953-2049cc0a6760",
   "metadata": {},
   "outputs": [],
   "source": [
    "Q9. Write a code to print odd numbers from 1 to 100 using list comprehension."
   ]
  },
  {
   "cell_type": "code",
   "execution_count": 37,
   "id": "e5d037d3-48f6-41bf-a853-25c6598c9242",
   "metadata": {},
   "outputs": [
    {
     "name": "stdout",
     "output_type": "stream",
     "text": [
      "1\n",
      "3\n",
      "5\n",
      "7\n",
      "9\n",
      "11\n",
      "13\n",
      "15\n",
      "17\n",
      "19\n",
      "21\n",
      "23\n",
      "25\n",
      "27\n",
      "29\n",
      "31\n",
      "33\n",
      "35\n",
      "37\n",
      "39\n",
      "41\n",
      "43\n",
      "45\n",
      "47\n",
      "49\n",
      "51\n",
      "53\n",
      "55\n",
      "57\n",
      "59\n",
      "61\n",
      "63\n",
      "65\n",
      "67\n",
      "69\n",
      "71\n",
      "73\n",
      "75\n",
      "77\n",
      "79\n",
      "81\n",
      "83\n",
      "85\n",
      "87\n",
      "89\n",
      "91\n",
      "93\n",
      "95\n",
      "97\n",
      "99\n"
     ]
    }
   ],
   "source": [
    "for i in range(100):\n",
    "    if i % 2!=0:\n",
    "        print(i)"
   ]
  },
  {
   "cell_type": "code",
   "execution_count": null,
   "id": "47bbde10-e8e5-42e4-9186-759661e0e4f5",
   "metadata": {},
   "outputs": [],
   "source": []
  }
 ],
 "metadata": {
  "kernelspec": {
   "display_name": "Python 3 (ipykernel)",
   "language": "python",
   "name": "python3"
  },
  "language_info": {
   "codemirror_mode": {
    "name": "ipython",
    "version": 3
   },
   "file_extension": ".py",
   "mimetype": "text/x-python",
   "name": "python",
   "nbconvert_exporter": "python",
   "pygments_lexer": "ipython3",
   "version": "3.10.8"
  }
 },
 "nbformat": 4,
 "nbformat_minor": 5
}
